{
  "nbformat": 4,
  "nbformat_minor": 0,
  "metadata": {
    "colab": {
      "provenance": [],
      "authorship_tag": "ABX9TyNk8dqXy2m2rRyHdCOsJUV5",
      "include_colab_link": true
    },
    "kernelspec": {
      "name": "python3",
      "display_name": "Python 3"
    },
    "language_info": {
      "name": "python"
    }
  },
  "cells": [
    {
      "cell_type": "markdown",
      "metadata": {
        "id": "view-in-github",
        "colab_type": "text"
      },
      "source": [
        "<a href=\"https://colab.research.google.com/github/eisbetterthanpi/RL/blob/main/procgen_save.ipynb\" target=\"_parent\"><img src=\"https://colab.research.google.com/assets/colab-badge.svg\" alt=\"Open In Colab\"/></a>"
      ]
    },
    {
      "cell_type": "code",
      "execution_count": null,
      "metadata": {
        "id": "7WkwnVjJTrW1"
      },
      "outputs": [],
      "source": [
        "!pip install -qq procgen"
      ]
    },
    {
      "cell_type": "code",
      "source": [
        "# https://github.com/openai/procgen\n",
        "import gym\n",
        "# env = gym.make(\"procgen:procgen-coinrun-v0\")\n",
        "# env = gym.make(\"procgen:procgen-coinrun-v0\", start_level=0, num_levels=1)\n",
        "\n",
        "# from procgen import ProcgenGym3Env\n",
        "# env = ProcgenGym3Env(num=1, env_name=\"coinrun\")\n",
        "\n",
        "env_name=\"procgen:procgen-{}-v0\".format(\"bigfish\")\n",
        "env = gym.make(env_name, use_sequential_levels=True, render_mode=\"rgb_array\")\n",
        "\n",
        "ENV_NAMES = [\"bigfish\", \"bossfight\", \"caveflyer\", \"chaser\", \"climber\", \"coinrun\", \"dodgeball\", \"fruitbot\", \"heist\", \"jumper\", \"leaper\", \"maze\", \"miner\", \"ninja\", \"plunder\", \"starpilot\",]\n"
      ],
      "metadata": {
        "colab": {
          "base_uri": "https://localhost:8080/"
        },
        "id": "Z5-_pfGZTsip",
        "outputId": "fffd2e13-8231-4409-e988-ef895e0f895d"
      },
      "execution_count": null,
      "outputs": [
        {
          "output_type": "stream",
          "name": "stderr",
          "text": [
            "/usr/local/lib/python3.10/dist-packages/gym/core.py:317: DeprecationWarning: \u001b[33mWARN: Initializing wrapper in old step API which returns one bool instead of two. It is recommended to set `new_step_api=True` to use new step API. This will be the default behaviour in future.\u001b[0m\n",
            "  deprecation(\n",
            "/usr/local/lib/python3.10/dist-packages/gym/wrappers/step_api_compatibility.py:39: DeprecationWarning: \u001b[33mWARN: Initializing environment in old step API which returns one bool instead of two. It is recommended to set `new_step_api=True` to use new step API. This will be the default behaviour in future.\u001b[0m\n",
            "  deprecation(\n"
          ]
        }
      ]
    },
    {
      "cell_type": "code",
      "source": [
        "from google.colab.patches import cv2_imshow\n",
        "import cv2\n",
        "\n",
        "out = cv2.VideoWriter('video.avi', cv2.VideoWriter_fourcc(*'DIVX'), 20, (64,64))\n",
        "\n",
        "env.reset()\n",
        "done = False\n",
        "while not done:\n",
        "    action = env.action_space.sample()\n",
        "    state, reward, done, info = env.step(action)\n",
        "    # print(state.shape) # 0-255 (64, 64, 3)\n",
        "\n",
        "    out.write(state)\n",
        "\n",
        "    # break\n",
        "    if done:\n",
        "        break\n",
        "env.close()\n",
        "out.release()\n",
        "cv2.destroyAllWindows()\n"
      ],
      "metadata": {
        "colab": {
          "base_uri": "https://localhost:8080/"
        },
        "id": "TA_rcOQQTxan",
        "outputId": "6fcb236c-593b-4b40-b21c-5d41fc1db64f"
      },
      "execution_count": null,
      "outputs": [
        {
          "output_type": "stream",
          "name": "stderr",
          "text": [
            "/usr/local/lib/python3.10/dist-packages/ipykernel/ipkernel.py:283: DeprecationWarning: `should_run_async` will not call `transform_cell` automatically in the future. Please pass the result to `transformed_cell` argument and any exception that happen during thetransform in `preprocessing_exc_tuple` in IPython 7.17 and above.\n",
            "  and should_run_async(code)\n",
            "/usr/local/lib/python3.10/dist-packages/gym/utils/passive_env_checker.py:174: UserWarning: \u001b[33mWARN: Future gym versions will require that `Env.reset` can be passed a `seed` instead of using `Env.seed` for resetting the environment random number generator.\u001b[0m\n",
            "  logger.warn(\n",
            "/usr/local/lib/python3.10/dist-packages/gym/utils/passive_env_checker.py:190: UserWarning: \u001b[33mWARN: Future gym versions will require that `Env.reset` can be passed `return_info` to return information from the environment resetting.\u001b[0m\n",
            "  logger.warn(\n",
            "/usr/local/lib/python3.10/dist-packages/gym/utils/passive_env_checker.py:195: UserWarning: \u001b[33mWARN: Future gym versions will require that `Env.reset` can be passed `options` to allow the environment initialisation to be passed additional information.\u001b[0m\n",
            "  logger.warn(\n",
            "/usr/local/lib/python3.10/dist-packages/gym/utils/passive_env_checker.py:227: DeprecationWarning: \u001b[33mWARN: Core environment is written in old step API which returns one bool instead of two. It is recommended to rewrite the environment with new step API. \u001b[0m\n",
            "  logger.deprecation(\n",
            "/usr/local/lib/python3.10/dist-packages/gym/utils/passive_env_checker.py:233: DeprecationWarning: `np.bool8` is a deprecated alias for `np.bool_`.  (Deprecated NumPy 1.24)\n",
            "  if not isinstance(done, (bool, np.bool8)):\n"
          ]
        }
      ]
    },
    {
      "cell_type": "code",
      "source": [
        "!ffmpeg -hide_banner -loglevel error -i video.avi video.mp4 -y\n",
        "from IPython.display import HTML\n",
        "from base64 import b64encode\n",
        "mp4 = open('video.mp4', \"rb\").read()\n",
        "data_url = \"data:video/mp4;base64,\" + b64encode(mp4).decode()\n",
        "HTML(f\"\"\"<video width=400 controls autoplay><source src=\"{data_url}\" type=\"video/mp4\"></video>\"\"\")\n"
      ],
      "metadata": {
        "colab": {
          "base_uri": "https://localhost:8080/",
          "height": 421
        },
        "id": "b8zxYU9jpE8K",
        "outputId": "4af52095-9072-4e37-e0e9-e6caa5569166"
      },
      "execution_count": null,
      "outputs": [
        {
          "output_type": "execute_result",
          "data": {
            "text/plain": [
              "<IPython.core.display.HTML object>"
            ],
            "text/html": [
              "<video width=400 controls autoplay><source src=\"data:video/mp4;base64,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\" type=\"video/mp4\"></video>"
            ]
          },
          "metadata": {},
          "execution_count": 15
        }
      ]
    }
  ]
}